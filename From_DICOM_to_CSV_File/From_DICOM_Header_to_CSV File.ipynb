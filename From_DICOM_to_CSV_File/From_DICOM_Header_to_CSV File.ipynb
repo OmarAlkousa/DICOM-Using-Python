{
  "nbformat": 4,
  "nbformat_minor": 0,
  "metadata": {
    "colab": {
      "provenance": []
    },
    "kernelspec": {
      "name": "python3",
      "display_name": "Python 3"
    },
    "language_info": {
      "name": "python"
    }
  },
  "cells": [
    {
      "cell_type": "markdown",
      "source": [
        "# **DICOM Metadata → CSV Dataset**\n",
        "DICOM, Digital Imaging and Communications in Medicine, is the native format of medical images. DICOM files consider data beyond pixel data and store it as a DICOM header. Such data are the Patient's age and weight, Modality, Image Dimension, and so on. In this post, we will use the PyDicom package to build a Python function that can extract specific metadata to use in further data analysis work."
      ],
      "metadata": {
        "id": "hJOZi4OIatS5"
      }
    },
    {
      "cell_type": "markdown",
      "source": [
        "![DICOM TO CSV.png](data:image/png;base64,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)"
      ],
      "metadata": {
        "id": "bBPxHleaa88a"
      }
    },
    {
      "cell_type": "markdown",
      "source": [
        "# **Background**\n",
        "As mentioned above, DICOM files have metadata. This data is useful for any DICOM user, from the patient to the doctors and the modalities of the imaging systems. Furthermore, it's treasury data that Data Scientists /Analysts can use to do very helpful insights.\n",
        "A good thing about this metadata is that it's represented in a standardized method where each DICOM attribute has a unique tag and keyword to give the user the information in a specific value representation.\n",
        "\n",
        "**Let's get to code and see an example of DICOM headers…**"
      ],
      "metadata": {
        "id": "wb4QunbNbEvd"
      }
    },
    {
      "cell_type": "markdown",
      "source": [
        "We will start with a simple example of reading a DICOM file to see the metadata representation. Then we'll build a function to extract the data.\n",
        "There are a lot of DICOM samples on the internet. And you can use your own DICOM files. For this post, I chose a [dataset](https://www.kaggle.com/datasets/dmisky/dlwptvolumetricdicomlung) of 99 slices of chest-CT scans for one patient. You can find it on Kaggle. I saved the dataset on my [Drive](https://drive.google.com/drive/folders/1dbJpXVUBn0mSUxgJIqKZj4d_0thSeTW3?usp=sharing) so I can easily have access through GoogleColab."
      ],
      "metadata": {
        "id": "2Gzt_7n7bS8S"
      }
    },
    {
      "cell_type": "code",
      "execution_count": 1,
      "metadata": {
        "colab": {
          "base_uri": "https://localhost:8080/"
        },
        "id": "8RtbPKmjT5D_",
        "outputId": "b44f5319-e4f9-49a6-cc7c-20cf021b0be0"
      },
      "outputs": [
        {
          "output_type": "stream",
          "name": "stdout",
          "text": [
            "Looking in indexes: https://pypi.org/simple, https://us-python.pkg.dev/colab-wheels/public/simple/\n",
            "Collecting pydicom\n",
            "  Downloading pydicom-2.3.1-py3-none-any.whl (2.0 MB)\n",
            "\u001b[2K     \u001b[90m━━━━━━━━━━━━━━━━━━━━━━━━━━━━━━━━━━━━━━━━\u001b[0m \u001b[32m2.0/2.0 MB\u001b[0m \u001b[31m25.2 MB/s\u001b[0m eta \u001b[36m0:00:00\u001b[0m\n",
            "\u001b[?25hInstalling collected packages: pydicom\n",
            "Successfully installed pydicom-2.3.1\n"
          ]
        },
        {
          "output_type": "execute_result",
          "data": {
            "text/plain": [
              "Dataset.file_meta -------------------------------\n",
              "(0002, 0000) File Meta Information Group Length  UL: 196\n",
              "(0002, 0001) File Meta Information Version       OB: b'\\x00\\x01'\n",
              "(0002, 0002) Media Storage SOP Class UID         UI: CT Image Storage\n",
              "(0002, 0003) Media Storage SOP Instance UID      UI: 1.3.6.1.4.1.14519.5.2.1.7085.2626.214140401149739061368142942055\n",
              "(0002, 0010) Transfer Syntax UID                 UI: Explicit VR Little Endian\n",
              "(0002, 0012) Implementation Class UID            UI: 1.2.40.0.13.1.1.1\n",
              "(0002, 0013) Implementation Version Name         SH: 'dcm4che-1.4.35'\n",
              "-------------------------------------------------\n",
              "(0008, 0005) Specific Character Set              CS: 'ISO_IR 100'\n",
              "(0008, 0008) Image Type                          CS: ['ORIGINAL', 'PRIMARY', 'AXIAL', 'CT_SOM5 SPI']\n",
              "(0008, 0016) SOP Class UID                       UI: CT Image Storage\n",
              "(0008, 0018) SOP Instance UID                    UI: 1.3.6.1.4.1.14519.5.2.1.7085.2626.214140401149739061368142942055\n",
              "(0008, 0020) Study Date                          DA: '20100227'\n",
              "(0008, 0021) Series Date                         DA: '20100227'\n",
              "(0008, 0022) Acquisition Date                    DA: '20100227'\n",
              "(0008, 0023) Content Date                        DA: '20100227'\n",
              "(0008, 0030) Study Time                          TM: '161937.171'\n",
              "(0008, 0031) Series Time                         TM: '162536.14'\n",
              "(0008, 0032) Acquisition Time                    TM: '162203.028699'\n",
              "(0008, 0033) Content Time                        TM: '162203.028699'\n",
              "(0008, 0050) Accession Number                    SH: '1598252606449858'\n",
              "(0008, 0060) Modality                            CS: 'CT'\n",
              "(0008, 0070) Manufacturer                        LO: 'SIEMENS'\n",
              "(0008, 0090) Referring Physician's Name          PN: ''\n",
              "(0008, 1030) Study Description                   LO: 'CT CHEST W IV CONTRAST'\n",
              "(0008, 103e) Series Description                  LO: 'LUNG 3.0  B70f'\n",
              "(0008, 1090) Manufacturer's Model Name           LO: 'Sensation 16'\n",
              "(0008, 1110)  Referenced Study Sequence  1 item(s) ---- \n",
              "   (0008, 1150) Referenced SOP Class UID            UI: Detached Study Management SOP Class\n",
              "   (0008, 1155) Referenced SOP Instance UID         UI: 1.3.6.1.4.1.14519.5.2.1.7085.2626.369429505691935722415265978954\n",
              "   ---------\n",
              "(0008, 1140)  Referenced Image Sequence  1 item(s) ---- \n",
              "   (0008, 1150) Referenced SOP Class UID            UI: CT Image Storage\n",
              "   (0008, 1155) Referenced SOP Instance UID         UI: 1.3.6.1.4.1.14519.5.2.1.7085.2626.205235983215257790411718232367\n",
              "   ---------\n",
              "(0008, 2112)  Source Image Sequence  1 item(s) ---- \n",
              "   (0008, 1150) Referenced SOP Class UID            UI: 1.3.12.2.1107.5.9.1\n",
              "   (0008, 1155) Referenced SOP Instance UID         UI: 1.3.6.1.4.1.14519.5.2.1.7085.2626.311297831929978695651149773236\n",
              "   ---------\n",
              "(0009, 0010) Private Creator                     LO: 'SIEMENS CT VA1 DUMMY'\n",
              "(0010, 0010) Patient's Name                      PN: 'C3N-00247'\n",
              "(0010, 0020) Patient ID                          LO: 'C3N-00247'\n",
              "(0010, 0030) Patient's Birth Date                DA: ''\n",
              "(0010, 0040) Patient's Sex                       CS: 'F'\n",
              "(0010, 1010) Patient's Age                       AS: '077Y'\n",
              "(0010, 2160) Ethnic Group                        SH: '8'\n",
              "(0012, 0050) Clinical Trial Time Point ID        LO: '97'\n",
              "(0012, 0051) Clinical Trial Time Point Descripti ST: 'Days offset from diagnosis'\n",
              "(0012, 0062) Patient Identity Removed            CS: 'YES'\n",
              "(0012, 0063) De-identification Method            LO: 'Per DICOM PS 3.15 AnnexE. Details in 0012,0064'\n",
              "(0012, 0064)  De-identification Method Code Sequence  8 item(s) ---- \n",
              "   (0008, 0100) Code Value                          SH: '113100'\n",
              "   (0008, 0102) Coding Scheme Designator            SH: 'DCM'\n",
              "   (0008, 0104) Code Meaning                        LO: 'Basic Application Confidentiality Profile'\n",
              "   ---------\n",
              "   (0008, 0100) Code Value                          SH: '113101'\n",
              "   (0008, 0102) Coding Scheme Designator            SH: 'DCM'\n",
              "   (0008, 0104) Code Meaning                        LO: 'Clean Pixel Data Option'\n",
              "   ---------\n",
              "   (0008, 0100) Code Value                          SH: '113104'\n",
              "   (0008, 0102) Coding Scheme Designator            SH: 'DCM'\n",
              "   (0008, 0104) Code Meaning                        LO: 'Clean Structured Content Option'\n",
              "   ---------\n",
              "   (0008, 0100) Code Value                          SH: '113105'\n",
              "   (0008, 0102) Coding Scheme Designator            SH: 'DCM'\n",
              "   (0008, 0104) Code Meaning                        LO: 'Clean Descriptors Option'\n",
              "   ---------\n",
              "   (0008, 0100) Code Value                          SH: '113107'\n",
              "   (0008, 0102) Coding Scheme Designator            SH: 'DCM'\n",
              "   (0008, 0104) Code Meaning                        LO: 'Retain Longitudinal Temporal Information Modified Dates Option'\n",
              "   ---------\n",
              "   (0008, 0100) Code Value                          SH: '113108'\n",
              "   (0008, 0102) Coding Scheme Designator            SH: 'DCM'\n",
              "   (0008, 0104) Code Meaning                        LO: 'Retain Patient Characteristics Option'\n",
              "   ---------\n",
              "   (0008, 0100) Code Value                          SH: '113109'\n",
              "   (0008, 0102) Coding Scheme Designator            SH: 'DCM'\n",
              "   (0008, 0104) Code Meaning                        LO: 'Retain Device Identity Option'\n",
              "   ---------\n",
              "   (0008, 0100) Code Value                          SH: '113111'\n",
              "   (0008, 0102) Coding Scheme Designator            SH: 'DCM'\n",
              "   (0008, 0104) Code Meaning                        LO: 'Retain Safe Private Option'\n",
              "   ---------\n",
              "(0013, 0010) Private Creator                     LO: 'CTP'\n",
              "(0013, 1010) Private tag data                    LO: 'CPTAC-LSCC'\n",
              "(0013, 1013) Private tag data                    LO: '70852626'\n",
              "(0018, 0015) Body Part Examined                  CS: 'CHEST'\n",
              "(0018, 0050) Slice Thickness                     DS: '3.0'\n",
              "(0018, 0060) KVP                                 DS: '100.0'\n",
              "(0018, 0090) Data Collection Diameter            DS: '500.0'\n",
              "(0018, 1020) Software Versions                   LO: 'syngo CT 2014A'\n",
              "(0018, 1030) Protocol Name                       LO: 'CHEST_ROUTINE_SMALL'\n",
              "(0018, 1100) Reconstruction Diameter             DS: '289.0'\n",
              "(0018, 1110) Distance Source to Detector         DS: '1040.0'\n",
              "(0018, 1111) Distance Source to Patient          DS: '570.0'\n",
              "(0018, 1120) Gantry/Detector Tilt                DS: '0.0'\n",
              "(0018, 1130) Table Height                        DS: '137.0'\n",
              "(0018, 1140) Rotation Direction                  CS: 'CW'\n",
              "(0018, 1150) Exposure Time                       IS: '500'\n",
              "(0018, 1151) X-Ray Tube Current                  IS: '237'\n",
              "(0018, 1152) Exposure                            IS: '131'\n",
              "(0018, 1160) Filter Type                         SH: '0'\n",
              "(0018, 1170) Generator Power                     IS: '35'\n",
              "(0018, 1190) Focal Spot(s)                       DS: '1.2'\n",
              "(0018, 1200) Date of Last Calibration            DA: '20100227'\n",
              "(0018, 1201) Time of Last Calibration            TM: '061404'\n",
              "(0018, 1210) Convolution Kernel                  SH: 'B70f'\n",
              "(0018, 5100) Patient Position                    CS: 'HFS'\n",
              "(0018, 9306) Single Collimation Width            FD: 1.5\n",
              "(0018, 9307) Total Collimation Width             FD: 24.0\n",
              "(0018, 9309) Table Speed                         FD: 43.0\n",
              "(0018, 9310) Table Feed per Rotation             FD: 21.6\n",
              "(0018, 9311) Spiral Pitch Factor                 FD: 0.9\n",
              "(0018, 9323) Exposure Modulation Type            CS: 'XYZ_EC'\n",
              "(0018, 9324) Estimated Dose Saving               FD: 29.4\n",
              "(0018, 9345) CTDIvol                             FD: 5.924999999999999\n",
              "(0019, 0010) Private Creator                     LO: 'SIEMENS CT VA0  COAD'\n",
              "(0019, 10b0) [Feed per Rotation]                 DS: '21.6'\n",
              "(0020, 000d) Study Instance UID                  UI: 1.3.6.1.4.1.14519.5.2.1.7085.2626.258626612405225511766549337110\n",
              "(0020, 000e) Series Instance UID                 UI: 1.3.6.1.4.1.14519.5.2.1.7085.2626.242193282649561899185427104083\n",
              "(0020, 0010) Study ID                            SH: ''\n",
              "(0020, 0011) Series Number                       IS: '2'\n",
              "(0020, 0012) Acquisition Number                  IS: '2'\n",
              "(0020, 0013) Instance Number                     IS: '75'\n",
              "(0020, 0032) Image Position (Patient)            DS: [-143.2177734375, -287.2177734375, -216]\n",
              "(0020, 0037) Image Orientation (Patient)         DS: [1, 0, 0, 0, 1, 0]\n",
              "(0020, 0052) Frame of Reference UID              UI: 1.3.6.1.4.1.14519.5.2.1.7085.2626.118309119521421997707953128381\n",
              "(0020, 1040) Position Reference Indicator        LO: ''\n",
              "(0020, 1041) Slice Location                      DS: '-216.0'\n",
              "(0020, 4000) Image Comments                      LT: '\\nPOST CONTRAST'\n",
              "(0021, 0010) Private Creator                     LO: 'SIEMENS MED'\n",
              "(0021, 1011) [Target]                            DS: [1, -6]\n",
              "(0028, 0002) Samples per Pixel                   US: 1\n",
              "(0028, 0004) Photometric Interpretation          CS: 'MONOCHROME2'\n",
              "(0028, 0010) Rows                                US: 512\n",
              "(0028, 0011) Columns                             US: 512\n",
              "(0028, 0030) Pixel Spacing                       DS: [0.564453125, 0.564453125]\n",
              "(0028, 0100) Bits Allocated                      US: 16\n",
              "(0028, 0101) Bits Stored                         US: 12\n",
              "(0028, 0102) High Bit                            US: 11\n",
              "(0028, 0103) Pixel Representation                US: 0\n",
              "(0028, 0106) Smallest Image Pixel Value          US: 0\n",
              "(0028, 0107) Largest Image Pixel Value           US: 4095\n",
              "(0028, 0303) Longitudinal Temporal Information M CS: 'MODIFIED'\n",
              "(0028, 1050) Window Center                       DS: [-500, 40]\n",
              "(0028, 1051) Window Width                        DS: [1500, 400]\n",
              "(0028, 1052) Rescale Intercept                   DS: '-1024.0'\n",
              "(0028, 1053) Rescale Slope                       DS: '1.0'\n",
              "(0028, 1055) Window Center & Width Explanation   LO: ['WINDOW1', 'WINDOW2']\n",
              "(0029, 0010) Private Creator                     LO: 'SIEMENS CSA HEADER'\n",
              "(0029, 0011) Private Creator                     LO: 'SIEMENS MEDCOM HEADER'\n",
              "(0029, 0012) Private Creator                     LO: 'MITRA PRESENTATION 1.0'\n",
              "(0031, 0010) Private Creator                     LO: 'AGFA PACS Archive Mirroring 1.0'\n",
              "(0032, 000a) Study Status ID                     CS: 'READ'\n",
              "(0032, 000c) Study Priority ID                   CS: 'LOW'\n",
              "(0032, 1030) Reason for Study                    LO: 'Malignant neoplasm of lower lobe, right bronchus or lung, RLL bi'\n",
              "(0032, 1060) Requested Procedure Description     LO: 'CT CHEST W IV CONTRAST'\n",
              "(0032, 4000) Study Comments                      LT: ''\n",
              "(0033, 0010) Private Creator                     LO: 'MITRA OBJECT UTF8 ATTRIBUTES 1.0'\n",
              "(0040, 0244) Performed Procedure Step Start Date DA: '20100227'\n",
              "(0040, 0245) Performed Procedure Step Start Time TM: '161937.171'\n",
              "(7fe0, 0010) Pixel Data                          OW: Array of 524288 elements"
            ]
          },
          "metadata": {},
          "execution_count": 1
        }
      ],
      "source": [
        "# Install and import the package\n",
        "!pip install pydicom\n",
        "import pydicom\n",
        "\n",
        "# Reading a DICOM file from a specific path\n",
        "dcm_data = pydicom.dcmread('/content/drive/MyDrive/Datasets/Kaggle/DICOM/dicom_lung/000000.dcm')\n",
        "dcm_data"
      ]
    },
    {
      "cell_type": "markdown",
      "source": [
        "**PyDicom** wraps a DataSet class and for each DICOM attribute, it starts with the tag as a key of the DataSet and the data element as a value. The image below describes the contents of the DataSet and DataElement classes."
      ],
      "metadata": {
        "id": "Azxqi_VC12Q_"
      }
    },
    {
      "cell_type": "markdown",
      "source": [
        "![PyDicom DataSet.png](data:image/png;base64,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)"
      ],
      "metadata": {
        "id": "RxJpOX66cNbz"
      }
    },
    {
      "cell_type": "markdown",
      "source": [
        "**PyDicom** package provides many methods and attributes to use with DataSet and DataElement classes. We won't dive into details about it. If you want to learn about it, refer to this previous [post](https://towardsdatascience.com/introducing-pydicom-its-classes-methods-and-attributes-518c1d71162)."
      ],
      "metadata": {
        "id": "-3nK25uQcSng"
      }
    },
    {
      "cell_type": "markdown",
      "source": [
        "# **Extract the metadata**\n",
        "The main idea we will depend on is that we can iterate over the DICOM files in a specific folder. Then we will iterate over the whole attributes in each file and extract only the attributes specified in advance. We will use the keywords of DICOM attributes as it's the best choice because:\n",
        "- Each DICOM attribute has its unique keyword.\n",
        "- The keywords are better than tags as they are human-readable.\n",
        "\n",
        "There are dozens of attributes that can characterize DICOM files. So, you cannot just read all of them. You need to focus only on the attributes that you might counter during your work. For this purpose, I highly recommend this great [**DICOM Standard Browser**](https://dicom.innolitics.com/ciods) which was built by Innolitics, you just need to search for the attribute you want to learn about. Make sure you type the keywords you want correctly.\n",
        "\n",
        "**Now that we understand what we will do, let's extract some DICOM metadata:)**\n",
        "\n",
        "We will need **glob** package to manipulate the paths of DICOM files. Also, the **Pandas** package is required to write the CSV file from a pandas data frame. The glob module finds all the path names matching a specified pattern according to the rules used by the Unix shell, although results are returned in arbitrary order.\n",
        "\n",
        "All that's left to set our python environment ready is to import the packages and build our function. Documentation of the function will be added to explain the parameters and the output of the function."
      ],
      "metadata": {
        "id": "BnuLFT2lchTf"
      }
    },
    {
      "cell_type": "code",
      "source": [
        "import pydicom\n",
        "import pandas as pd\n",
        "import glob"
      ],
      "metadata": {
        "id": "7MloCMwXUgqp"
      },
      "execution_count": 3,
      "outputs": []
    },
    {
      "cell_type": "code",
      "source": [
        "def dicom2csv(extract = [],\n",
        "              move_on = [(0x7FE0,0x0008), (0x7FE0,0x0009), (0x7FE0,0x0010)],\n",
        "              folder_path = str(),\n",
        "              csv_file_name = \"metadata.csv\",\n",
        "              return_dataframe = False):\n",
        "  \n",
        "  '''\n",
        "  Extract specific DICOM metadata from multiple DICOM files collected in a\n",
        "  specified folder.\n",
        "\n",
        "  ::Params\n",
        "      - extract (list):\n",
        "          The keywords of the DICOM attributes you want to extract.\n",
        "\n",
        "      - move_on (list):\n",
        "          The tags of the DICOM attributes you don't want to move on.\n",
        "          By default,it contains a list of the tags of pixel data:\n",
        "          [(0x7FE0,0x0008), (0x7FE0,0x0009), (0x7FE0,0x0010)]\n",
        "          If you want to move on onto some attributes, it's recommended\n",
        "          to append its unique tags in addition to pixel data tags.\n",
        "\n",
        "      - folder_path (string):\n",
        "          Path of the folder that contains the DICOM files.\n",
        "\n",
        "      - csv_file_name (string):\n",
        "          The name of the CSV file.\n",
        "\n",
        "      - return_dataframe (bool):\n",
        "          if True, returns a pandas dataframe of the extracted data for direct use.\n",
        "  \n",
        "  :: Returns\n",
        "      - CSV file contains DICOM metadata specified the parameter extracted.\n",
        "      - Pandas dataframe when return_dataframe is set to True.\n",
        "  '''\n",
        "  \n",
        "  # Initialize the meta dictionary that will have the specified attributes\n",
        "  meta = {keyword:[] for keyword in extract}\n",
        "\n",
        "  # List the files' names that we want to extract data from\n",
        "  dicom_files = glob.glob(folder_path+'/*.dcm')\n",
        "\n",
        "  # Iterate over each DICOM file in the folder and read it using dcmread()\n",
        "  for file_path in dicom_files:\n",
        "    # Read the DICOM file from the specified path\n",
        "    dcm = pydicom.dcmread(file_path)\n",
        "\n",
        "    # Iterate over the DICOM attributes in the current DICOM file \"dcm\"\n",
        "    for elem in dcm.iterall():\n",
        "      # Ensure that the attribute is not a pixel data and it's one of the required attributes\n",
        "      if (elem.tag not in move_on) and (elem.keyword in extract):\n",
        "        # Append the value of the current attribute\n",
        "        meta[elem.keyword].append(elem.value)\n",
        "  \n",
        "  # Create a pandas dataframe for better use of the data\n",
        "  df = pd.DataFrame(data=meta, columns = extract)\n",
        "\n",
        "  # Create the CSV file with the specified name\n",
        "  df.to_csv(csv_file_name, index=False)\n",
        "\n",
        "  # Return the extracted dataframe for direct use\n",
        "  if return_dataframe:\n",
        "    return df"
      ],
      "metadata": {
        "id": "LMgDa0XuzZCS"
      },
      "execution_count": 4,
      "outputs": []
    },
    {
      "cell_type": "markdown",
      "source": [
        "Let's try the above function. First, we decide what DICOM attributes we are interested in. For example, I want to calculate the DLP index from a series of Chest CT scans. **DLP index, Dose-Length Product**, is a commonly used index that factors in the length of the scan to show overall dose output. It's commonly used and represented at the consoles of modern modalities because it gives a rough estimation of the effective dose (ED) in advance.\n",
        "\n",
        "DLP can be calculated from CTDIvol, another CT index that describes the average dose for a single image for the selected CT conditions of operation represented in mGy. Dose–length product (DLP) is used to calculate the dose for a series of scans or a complete examination and is defined by the following equation:\n",
        "$$\n",
        "  DLP = \\sum^N_{i=1}(CTDIvol)_i .L_i\n",
        "$$\n",
        "Where i is for the ith CTDIvol for each image that covers a length of Li. For Li, we will use the reconstruction interval between every two sequenced images because it is what actually determines the number of images that correspond to a given scan length. Slice Location will help us calculate the reconstruction intervals in millimeters.\n",
        "So, the metadata we need to calculate DLP are **CTDIvol** represented in mGy (milli-Gray) and the **SliceLocation** of each axial slice expresses in mm. Let's use the function we've built above to extract them.\n",
        "\n",
        "So, the metadata we need to calculate DLP are CTDIvol represented in mGy (milli-Gray) and the SliceLocation of each axial slice expresses in mm. Let's use the function we've built above to extract them."
      ],
      "metadata": {
        "id": "ZGmzlpCSd1W5"
      }
    },
    {
      "cell_type": "code",
      "source": [
        "# Extract the SliceLocation and CTDIvol from DICOM files of Chest-CT\n",
        "df = dicom2csv(extract = ['SliceLocation', 'CTDIvol'],\n",
        "          folder_path = '/content/drive/MyDrive/Datasets/Kaggle/DICOM/dicom_lung',\n",
        "          csv_file_name = 'data.csv', \n",
        "          return_dataframe = True)"
      ],
      "metadata": {
        "id": "d_tSVKItjz48"
      },
      "execution_count": 5,
      "outputs": []
    },
    {
      "cell_type": "markdown",
      "source": [
        "**Note** that reading DICOM files is done arbitrarily. So, we need to sort the data based on the slice location."
      ],
      "metadata": {
        "id": "FpGkSqJek4G3"
      }
    },
    {
      "cell_type": "code",
      "source": [
        "# Sort the data frame to get the slices in order\n",
        "df.sort_values(by='SliceLocation', inplace=True, ignore_index=True)\n",
        "df"
      ],
      "metadata": {
        "id": "yeoM9Yl-9wX0",
        "outputId": "34fac74a-ef79-4f11-81d6-9a163dd8ad37",
        "colab": {
          "base_uri": "https://localhost:8080/",
          "height": 424
        }
      },
      "execution_count": 6,
      "outputs": [
        {
          "output_type": "execute_result",
          "data": {
            "text/plain": [
              "    SliceLocation  CTDIvol\n",
              "0          -288.0    8.550\n",
              "1          -285.0    8.450\n",
              "2          -282.0    8.250\n",
              "3          -279.0    8.025\n",
              "4          -276.0    7.850\n",
              "..            ...      ...\n",
              "94           -6.0   12.450\n",
              "95           -3.0   12.325\n",
              "96            0.0   12.125\n",
              "97            3.0   11.925\n",
              "98            6.0   11.575\n",
              "\n",
              "[99 rows x 2 columns]"
            ],
            "text/html": [
              "\n",
              "  <div id=\"df-72a84f58-1aa1-4351-b071-5926d21c23dc\">\n",
              "    <div class=\"colab-df-container\">\n",
              "      <div>\n",
              "<style scoped>\n",
              "    .dataframe tbody tr th:only-of-type {\n",
              "        vertical-align: middle;\n",
              "    }\n",
              "\n",
              "    .dataframe tbody tr th {\n",
              "        vertical-align: top;\n",
              "    }\n",
              "\n",
              "    .dataframe thead th {\n",
              "        text-align: right;\n",
              "    }\n",
              "</style>\n",
              "<table border=\"1\" class=\"dataframe\">\n",
              "  <thead>\n",
              "    <tr style=\"text-align: right;\">\n",
              "      <th></th>\n",
              "      <th>SliceLocation</th>\n",
              "      <th>CTDIvol</th>\n",
              "    </tr>\n",
              "  </thead>\n",
              "  <tbody>\n",
              "    <tr>\n",
              "      <th>0</th>\n",
              "      <td>-288.0</td>\n",
              "      <td>8.550</td>\n",
              "    </tr>\n",
              "    <tr>\n",
              "      <th>1</th>\n",
              "      <td>-285.0</td>\n",
              "      <td>8.450</td>\n",
              "    </tr>\n",
              "    <tr>\n",
              "      <th>2</th>\n",
              "      <td>-282.0</td>\n",
              "      <td>8.250</td>\n",
              "    </tr>\n",
              "    <tr>\n",
              "      <th>3</th>\n",
              "      <td>-279.0</td>\n",
              "      <td>8.025</td>\n",
              "    </tr>\n",
              "    <tr>\n",
              "      <th>4</th>\n",
              "      <td>-276.0</td>\n",
              "      <td>7.850</td>\n",
              "    </tr>\n",
              "    <tr>\n",
              "      <th>...</th>\n",
              "      <td>...</td>\n",
              "      <td>...</td>\n",
              "    </tr>\n",
              "    <tr>\n",
              "      <th>94</th>\n",
              "      <td>-6.0</td>\n",
              "      <td>12.450</td>\n",
              "    </tr>\n",
              "    <tr>\n",
              "      <th>95</th>\n",
              "      <td>-3.0</td>\n",
              "      <td>12.325</td>\n",
              "    </tr>\n",
              "    <tr>\n",
              "      <th>96</th>\n",
              "      <td>0.0</td>\n",
              "      <td>12.125</td>\n",
              "    </tr>\n",
              "    <tr>\n",
              "      <th>97</th>\n",
              "      <td>3.0</td>\n",
              "      <td>11.925</td>\n",
              "    </tr>\n",
              "    <tr>\n",
              "      <th>98</th>\n",
              "      <td>6.0</td>\n",
              "      <td>11.575</td>\n",
              "    </tr>\n",
              "  </tbody>\n",
              "</table>\n",
              "<p>99 rows × 2 columns</p>\n",
              "</div>\n",
              "      <button class=\"colab-df-convert\" onclick=\"convertToInteractive('df-72a84f58-1aa1-4351-b071-5926d21c23dc')\"\n",
              "              title=\"Convert this dataframe to an interactive table.\"\n",
              "              style=\"display:none;\">\n",
              "        \n",
              "  <svg xmlns=\"http://www.w3.org/2000/svg\" height=\"24px\"viewBox=\"0 0 24 24\"\n",
              "       width=\"24px\">\n",
              "    <path d=\"M0 0h24v24H0V0z\" fill=\"none\"/>\n",
              "    <path d=\"M18.56 5.44l.94 2.06.94-2.06 2.06-.94-2.06-.94-.94-2.06-.94 2.06-2.06.94zm-11 1L8.5 8.5l.94-2.06 2.06-.94-2.06-.94L8.5 2.5l-.94 2.06-2.06.94zm10 10l.94 2.06.94-2.06 2.06-.94-2.06-.94-.94-2.06-.94 2.06-2.06.94z\"/><path d=\"M17.41 7.96l-1.37-1.37c-.4-.4-.92-.59-1.43-.59-.52 0-1.04.2-1.43.59L10.3 9.45l-7.72 7.72c-.78.78-.78 2.05 0 2.83L4 21.41c.39.39.9.59 1.41.59.51 0 1.02-.2 1.41-.59l7.78-7.78 2.81-2.81c.8-.78.8-2.07 0-2.86zM5.41 20L4 18.59l7.72-7.72 1.47 1.35L5.41 20z\"/>\n",
              "  </svg>\n",
              "      </button>\n",
              "      \n",
              "  <style>\n",
              "    .colab-df-container {\n",
              "      display:flex;\n",
              "      flex-wrap:wrap;\n",
              "      gap: 12px;\n",
              "    }\n",
              "\n",
              "    .colab-df-convert {\n",
              "      background-color: #E8F0FE;\n",
              "      border: none;\n",
              "      border-radius: 50%;\n",
              "      cursor: pointer;\n",
              "      display: none;\n",
              "      fill: #1967D2;\n",
              "      height: 32px;\n",
              "      padding: 0 0 0 0;\n",
              "      width: 32px;\n",
              "    }\n",
              "\n",
              "    .colab-df-convert:hover {\n",
              "      background-color: #E2EBFA;\n",
              "      box-shadow: 0px 1px 2px rgba(60, 64, 67, 0.3), 0px 1px 3px 1px rgba(60, 64, 67, 0.15);\n",
              "      fill: #174EA6;\n",
              "    }\n",
              "\n",
              "    [theme=dark] .colab-df-convert {\n",
              "      background-color: #3B4455;\n",
              "      fill: #D2E3FC;\n",
              "    }\n",
              "\n",
              "    [theme=dark] .colab-df-convert:hover {\n",
              "      background-color: #434B5C;\n",
              "      box-shadow: 0px 1px 3px 1px rgba(0, 0, 0, 0.15);\n",
              "      filter: drop-shadow(0px 1px 2px rgba(0, 0, 0, 0.3));\n",
              "      fill: #FFFFFF;\n",
              "    }\n",
              "  </style>\n",
              "\n",
              "      <script>\n",
              "        const buttonEl =\n",
              "          document.querySelector('#df-72a84f58-1aa1-4351-b071-5926d21c23dc button.colab-df-convert');\n",
              "        buttonEl.style.display =\n",
              "          google.colab.kernel.accessAllowed ? 'block' : 'none';\n",
              "\n",
              "        async function convertToInteractive(key) {\n",
              "          const element = document.querySelector('#df-72a84f58-1aa1-4351-b071-5926d21c23dc');\n",
              "          const dataTable =\n",
              "            await google.colab.kernel.invokeFunction('convertToInteractive',\n",
              "                                                     [key], {});\n",
              "          if (!dataTable) return;\n",
              "\n",
              "          const docLinkHtml = 'Like what you see? Visit the ' +\n",
              "            '<a target=\"_blank\" href=https://colab.research.google.com/notebooks/data_table.ipynb>data table notebook</a>'\n",
              "            + ' to learn more about interactive tables.';\n",
              "          element.innerHTML = '';\n",
              "          dataTable['output_type'] = 'display_data';\n",
              "          await google.colab.output.renderOutput(dataTable, element);\n",
              "          const docLink = document.createElement('div');\n",
              "          docLink.innerHTML = docLinkHtml;\n",
              "          element.appendChild(docLink);\n",
              "        }\n",
              "      </script>\n",
              "    </div>\n",
              "  </div>\n",
              "  "
            ]
          },
          "metadata": {},
          "execution_count": 6
        }
      ]
    },
    {
      "cell_type": "markdown",
      "source": [
        "Vividly, the reconstruction interval is 3.0 mm from the look at the \"SliceLocation\" column, which is the same as the slice thickness. You can try the following line code to ensure that the reconstruction interval is the same for all slices."
      ],
      "metadata": {
        "id": "jG8dXJ4EmJBn"
      }
    },
    {
      "cell_type": "code",
      "source": [
        "# Calculate the reconstruction interval from SliceLocation\n",
        "[df['SliceLocation'][i+1] - df['SliceLocation'][i] for i in range(0,len(df)-1)]"
      ],
      "metadata": {
        "id": "LTpD1_s522_D"
      },
      "execution_count": null,
      "outputs": []
    },
    {
      "cell_type": "markdown",
      "source": [
        "Back to the DLP equation, Li is the same for all slices and it's 0.3 cm. Our final touch is to multiply each CTDIvol by 0.3 and sum the variables."
      ],
      "metadata": {
        "id": "nEdKSt-bmOOc"
      }
    },
    {
      "cell_type": "code",
      "source": [
        "import numpy as np\n",
        "# Calculating DPL = sum(CTDIvol * 0.3)\n",
        "print('DLP = ',np.sum(df['CTDIvol'].values * 0.3), 'mGy*cm')"
      ],
      "metadata": {
        "colab": {
          "base_uri": "https://localhost:8080/"
        },
        "id": "ozNzw1wq4WiO",
        "outputId": "4f8e2e57-7dc6-4bd1-9026-80be2ef261c5"
      },
      "execution_count": 8,
      "outputs": [
        {
          "output_type": "stream",
          "name": "stdout",
          "text": [
            "DLP =  239.90999999999994 mGy*cm\n"
          ]
        }
      ]
    },
    {
      "cell_type": "markdown",
      "source": [
        "It is important to remember that the CTDIvol or its derivative the DLP, as seen on consoles and outputted on the DICOM images, does not represent the actual absorbed or effective dose for the patient. They should be taken as an index of radiation output by the system for comparison purposes. And the calculation of Effective Dose based on DLP is just a rough estimation.\n",
        "\n",
        "DLP calculation was just one single example of how useful extracting data from DICOM headers is. And the python function we've built makes it easy to deal with the specified metadata."
      ],
      "metadata": {
        "id": "FJJVMHPqmYQ5"
      }
    },
    {
      "cell_type": "markdown",
      "source": [
        "# **Conclusion**\n",
        "- We've seen how to use the PyDicom package to read DICOM files. And the power of using DICOM metadata in our analyzing work.\n",
        "- We've built a function that converts the specific data from DICOM headers into a CSV file to use in further insights.\n",
        "- We've used the function to calculate the Dose Length Product, which is a common used parameter in dose estimation for CT modalities.\n",
        "\n",
        "###**Thanks For Reading…**"
      ],
      "metadata": {
        "id": "ByEk3aCHmbot"
      }
    },
    {
      "cell_type": "markdown",
      "source": [
        "# **Recommendation**\n",
        "- ***DICOM Metadata - A Useful Resource for Big Data Analytics:***\n",
        "This [**article**](https://healthmanagement.org/c/healthmanagement/issuearticle/dicom-metadata-a-useful-resource-for-big-data-analytics) provides an overview of new ways to represent data by combining patient access and DICOM information, advanced use of medical imaging metadata, analysis of radiation dose and image segmentation, and deep learning for feature engineering to enrich data.\n",
        "- For more details about DICOM: refer to the previous blog, [**What is DICOM?**](https://medium.com/@omar.ok1998/what-is-dicom-a28c5fe24c9d)\n",
        "- [Caculating DLP from Computed Tomography Dose Index, CTDIvol](https://howradiologyworks.com/dlp-calculator/)."
      ],
      "metadata": {
        "id": "D6C--UPHmolW"
      }
    },
    {
      "cell_type": "markdown",
      "source": [
        "# **References**\n",
        "[1] PyDicom Documentation, [**User Guide**](https://pydicom.github.io/pydicom/stable/old/pydicom_user_guide.html), [Accessed at 25/12/2022]\n",
        "\n",
        "[2] PyDicom Documentation, [**Element VRs and Python types**](https://pydicom.github.io/pydicom/stable/guides/element_value_types.html), [Accessed at 25/12/2022]\n",
        "\n",
        "[3] PyDicom Documentation, [**API Reference**](https://pydicom.github.io/pydicom/stable/reference/index.html), [Accessed at 25/12/2022]\n",
        "\n",
        "[4] Innolitics, DICOM Standard Browser, (2022), [**CTDIvol Attribute**](https://dicom.innolitics.com/ciods/ct-image/ct-image/00189345), [Accessed at 10/1/2023]\n",
        "\n",
        "[5] I. A. Tsalafoutas and S. I. Metallidis, \"A method for calculating the dose length product from CT DICOM images,\" BJR, vol. 84, no. 999, pp. 236–243, Mar. 2011, doi: 10.1259/bjr/37630380."
      ],
      "metadata": {
        "id": "b88OdJ77nZ1F"
      }
    }
  ]
}